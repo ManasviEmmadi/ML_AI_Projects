{
  "nbformat": 4,
  "nbformat_minor": 0,
  "metadata": {
    "colab": {
      "provenance": [],
      "authorship_tag": "ABX9TyNU5hL0K9Wmpg9k+Atzvwd6",
      "include_colab_link": true
    },
    "kernelspec": {
      "name": "python3",
      "display_name": "Python 3"
    },
    "language_info": {
      "name": "python"
    }
  },
  "cells": [
    {
      "cell_type": "markdown",
      "metadata": {
        "id": "view-in-github",
        "colab_type": "text"
      },
      "source": [
        "<a href=\"https://colab.research.google.com/github/ManasviEmmadi/ML_AI_Projects/blob/main/cnn_cifar.ipynb\" target=\"_parent\"><img src=\"https://colab.research.google.com/assets/colab-badge.svg\" alt=\"Open In Colab\"/></a>"
      ]
    },
    {
      "cell_type": "code",
      "execution_count": null,
      "metadata": {
        "id": "Jkxd591uRNzT"
      },
      "outputs": [],
      "source": [
        "from keras import datasets, layers, models\n",
        "from keras.datasets import cifar10\n",
        "import matplotlib.pyplot as plt\n",
        "import numpy as np"
      ]
    },
    {
      "cell_type": "code",
      "source": [
        "(X_train, y_train), (X_test, y_test)=datasets.cifar10.load_data()\n",
        "X_train.shape"
      ],
      "metadata": {
        "colab": {
          "base_uri": "https://localhost:8080/"
        },
        "id": "c2FJisV1R6zx",
        "outputId": "d0c2b07b-f681-4d51-b401-cfa7e2ad3959"
      },
      "execution_count": null,
      "outputs": [
        {
          "output_type": "stream",
          "name": "stdout",
          "text": [
            "Downloading data from https://www.cs.toronto.edu/~kriz/cifar-10-python.tar.gz\n",
            "170500096/170498071 [==============================] - 4s 0us/step\n",
            "170508288/170498071 [==============================] - 4s 0us/step\n"
          ]
        },
        {
          "output_type": "execute_result",
          "data": {
            "text/plain": [
              "(50000, 32, 32, 3)"
            ]
          },
          "metadata": {},
          "execution_count": 3
        }
      ]
    },
    {
      "cell_type": "code",
      "source": [
        "X_test.shape"
      ],
      "metadata": {
        "colab": {
          "base_uri": "https://localhost:8080/"
        },
        "id": "KblC9o8KToIw",
        "outputId": "d0fbb458-4303-451c-f516-bfc183358281"
      },
      "execution_count": null,
      "outputs": [
        {
          "output_type": "execute_result",
          "data": {
            "text/plain": [
              "(10000, 32, 32, 3)"
            ]
          },
          "metadata": {},
          "execution_count": 4
        }
      ]
    },
    {
      "cell_type": "code",
      "source": [],
      "metadata": {
        "id": "DfK8E3gsg5bP"
      },
      "execution_count": null,
      "outputs": []
    },
    {
      "cell_type": "code",
      "source": [
        "y_train[:5]"
      ],
      "metadata": {
        "colab": {
          "base_uri": "https://localhost:8080/"
        },
        "id": "HhKGawRiequk",
        "outputId": "c36dc91e-f1a6-4755-f4e5-e317b27db313"
      },
      "execution_count": null,
      "outputs": [
        {
          "output_type": "execute_result",
          "data": {
            "text/plain": [
              "array([[6],\n",
              "       [9],\n",
              "       [9],\n",
              "       [4],\n",
              "       [1]], dtype=uint8)"
            ]
          },
          "metadata": {},
          "execution_count": 5
        }
      ]
    },
    {
      "cell_type": "code",
      "source": [
        "y_train= y_train.reshape(-1,)\n",
        "y_train[:5]"
      ],
      "metadata": {
        "colab": {
          "base_uri": "https://localhost:8080/"
        },
        "id": "naEHxvuvevx7",
        "outputId": "ded72122-9f26-4538-b1de-8881183659f8"
      },
      "execution_count": null,
      "outputs": [
        {
          "output_type": "execute_result",
          "data": {
            "text/plain": [
              "array([6, 9, 9, 4, 1], dtype=uint8)"
            ]
          },
          "metadata": {},
          "execution_count": 6
        }
      ]
    },
    {
      "cell_type": "code",
      "source": [
        "classes = [\"airplane\",\"automobile\",\"bird\",\"cat\",\"deer\",\"dog\",\"frog\",\"horse\",\"ship\",\"truck\"]"
      ],
      "metadata": {
        "id": "nkx2LNMAhXbS"
      },
      "execution_count": null,
      "outputs": []
    },
    {
      "cell_type": "code",
      "source": [
        "def plot_sample(X, y, index):\n",
        "  plt.figure(figsize=(15,2))#uhhh\n",
        "  plt.imshow(X[index])\n",
        "  plt.xlabel(classes[y[index]])"
      ],
      "metadata": {
        "id": "ipPIYEgcTqPw"
      },
      "execution_count": null,
      "outputs": []
    },
    {
      "cell_type": "code",
      "source": [
        "plot_sample(X_train, y_train, 2)"
      ],
      "metadata": {
        "colab": {
          "base_uri": "https://localhost:8080/",
          "height": 173
        },
        "id": "-TRQoUvTeRRp",
        "outputId": "fe591503-df2e-4543-c13f-bc8c70975e52"
      },
      "execution_count": null,
      "outputs": [
        {
          "output_type": "display_data",
          "data": {
            "text/plain": [
              "<Figure size 1080x144 with 1 Axes>"
            ],
            "image/png": "[encoded data removed]"
          },
          "metadata": {
            "needs_background": "light"
          }
        }
      ]
    },
    {
      "cell_type": "code",
      "source": [
        "X_train = X_train/255.0\n",
        "X_test = X_test/255.0"
      ],
      "metadata": {
        "id": "Hm6IMSO0jKT4"
      },
      "execution_count": null,
      "outputs": []
    },
    {
      "cell_type": "code",
      "source": [
        "cnn  = models.Sequential([\n",
        "    #cnn\n",
        "    layers.Conv2D(filters=32, kernel_size=(3,3), activation='relu', input_shape=(32, 32, 3)),\n",
        "    layers.MaxPooling2D((2,2)),\n",
        "\n",
        "    layers.Conv2D(filters=64, kernel_size=(3,3), activation='relu'),\n",
        "    layers.MaxPooling2D((2,2)),\n",
        "\n",
        "    #dense\n",
        "    layers.Flatten(),\n",
        "    layers.Dense(64, activation='relu'),\n",
        "    layers.Dense(10, activation='softmax')\n",
        "])"
      ],
      "metadata": {
        "id": "PXnew07cjSx5"
      },
      "execution_count": null,
      "outputs": []
    },
    {
      "cell_type": "code",
      "source": [
        "cnn.compile(optimizer='adam',\n",
        "            loss='sparse_categorical_crossentropy',\n",
        "            metrics=['accuracy'])"
      ],
      "metadata": {
        "id": "Pdmv1eSFalo4"
      },
      "execution_count": null,
      "outputs": []
    },
    {
      "cell_type": "code",
      "source": [
        "cnn.fit(X_train, y_train, epochs=10)"
      ],
      "metadata": {
        "colab": {
          "base_uri": "https://localhost:8080/"
        },
        "id": "n8ylPRdLa_zB",
        "outputId": "60e9d14f-a647-4f49-c425-9ce7388ae5f3"
      },
      "execution_count": null,
      "outputs": [
        {
          "output_type": "stream",
          "name": "stdout",
          "text": [
            "Epoch 1/10\n",
            "1563/1563 [==============================] - 66s 42ms/step - loss: 1.4762 - accuracy: 0.4714\n",
            "Epoch 2/10\n",
            "1563/1563 [==============================] - 65s 41ms/step - loss: 1.1110 - accuracy: 0.6105\n",
            "Epoch 3/10\n",
            "1563/1563 [==============================] - 63s 40ms/step - loss: 0.9776 - accuracy: 0.6592\n",
            "Epoch 4/10\n",
            "1563/1563 [==============================] - 63s 40ms/step - loss: 0.8946 - accuracy: 0.6873\n",
            "Epoch 5/10\n",
            "1563/1563 [==============================] - 63s 40ms/step - loss: 0.8323 - accuracy: 0.7104\n",
            "Epoch 6/10\n",
            "1563/1563 [==============================] - 62s 40ms/step - loss: 0.7707 - accuracy: 0.7333\n",
            "Epoch 7/10\n",
            "1563/1563 [==============================] - 63s 40ms/step - loss: 0.7246 - accuracy: 0.7453\n",
            "Epoch 8/10\n",
            "1563/1563 [==============================] - 62s 40ms/step - loss: 0.6834 - accuracy: 0.7605\n",
            "Epoch 9/10\n",
            "1563/1563 [==============================] - 62s 40ms/step - loss: 0.6456 - accuracy: 0.7742\n",
            "Epoch 10/10\n",
            "1563/1563 [==============================] - 62s 39ms/step - loss: 0.6056 - accuracy: 0.7890\n"
          ]
        },
        {
          "output_type": "execute_result",
          "data": {
            "text/plain": [
              "<keras.callbacks.History at 0x7f1e30780890>"
            ]
          },
          "metadata": {},
          "execution_count": 15
        }
      ]
    },
    {
      "cell_type": "code",
      "source": [
        "cnn.evaluate(X_test, y_test)"
      ],
      "metadata": {
        "colab": {
          "base_uri": "https://localhost:8080/"
        },
        "id": "5VvpcPfNbiwE",
        "outputId": "ffe836b8-0851-44b2-d2d3-3231a295b38c"
      },
      "execution_count": null,
      "outputs": [
        {
          "output_type": "stream",
          "name": "stdout",
          "text": [
            "313/313 [==============================] - 4s 14ms/step - loss: 0.9094 - accuracy: 0.7069\n"
          ]
        },
        {
          "output_type": "execute_result",
          "data": {
            "text/plain": [
              "[0.9094451069831848, 0.7069000005722046]"
            ]
          },
          "metadata": {},
          "execution_count": 16
        }
      ]
    },
    {
      "cell_type": "code",
      "source": [
        "y_test[:5]"
      ],
      "metadata": {
        "colab": {
          "base_uri": "https://localhost:8080/"
        },
        "id": "j7dvCyexekB4",
        "outputId": "a2259b0d-98db-457d-ffd8-2aa6877339ad"
      },
      "execution_count": null,
      "outputs": [
        {
          "output_type": "execute_result",
          "data": {
            "text/plain": [
              "array([[3],\n",
              "       [8],\n",
              "       [8],\n",
              "       [0],\n",
              "       [6]], dtype=uint8)"
            ]
          },
          "metadata": {},
          "execution_count": 17
        }
      ]
    },
    {
      "cell_type": "code",
      "source": [
        "y_test= y_test.reshape(-1,)\n",
        "plot_sample(X_test, y_test, 1)"
      ],
      "metadata": {
        "colab": {
          "base_uri": "https://localhost:8080/",
          "height": 173
        },
        "id": "oIN0F79ReurK",
        "outputId": "73fbc2d1-a5e1-453b-a63f-3f870dfaa375"
      },
      "execution_count": null,
      "outputs": [
        {
          "output_type": "display_data",
          "data": {
            "text/plain": [
              "<Figure size 1080x144 with 1 Axes>"
            ],
            "image/png": "[encoded data removed]"
          },
          "metadata": {
            "needs_background": "light"
          }
        }
      ]
    },
    {
      "cell_type": "code",
      "source": [
        "y_pred= cnn.predict(X_test)\n",
        "y_pred[:5]"
      ],
      "metadata": {
        "colab": {
          "base_uri": "https://localhost:8080/"
        },
        "id": "iv_tXaRle_z0",
        "outputId": "928e8489-8804-4298-e481-9bdf2b650e47"
      },
      "execution_count": null,
      "outputs": [
        {
          "output_type": "execute_result",
          "data": {
            "text/plain": [
              "array([[1.14094379e-04, 1.45833419e-05, 2.35558115e-03, 9.62866127e-01,\n",
              "        1.02372833e-05, 3.35976155e-03, 2.01536510e-02, 9.78433818e-05,\n",
              "        1.09050432e-02, 1.23141755e-04],\n",
              "       [2.63539534e-02, 2.35541180e-01, 1.23277177e-05, 8.89049318e-07,\n",
              "        7.85900838e-08, 6.02514527e-09, 9.59756608e-10, 2.29029311e-08,\n",
              "        7.37999558e-01, 9.19533195e-05],\n",
              "       [1.98560938e-01, 6.74738646e-01, 3.51526600e-04, 3.23140086e-03,\n",
              "        1.28471467e-04, 7.82714167e-04, 4.99839480e-05, 4.72683052e-04,\n",
              "        1.02629006e-01, 1.90546140e-02],\n",
              "       [8.44616771e-01, 3.95083567e-04, 5.35830185e-02, 6.32996671e-03,\n",
              "        2.80992757e-03, 2.99242329e-05, 5.85650632e-05, 3.85027291e-04,\n",
              "        9.17811617e-02, 1.05571698e-05],\n",
              "       [1.19250927e-07, 7.35897447e-06, 8.29543639e-03, 2.54550874e-01,\n",
              "        2.58707050e-02, 9.02434066e-03, 7.02174604e-01, 1.37809934e-07,\n",
              "        7.59940158e-05, 4.52623112e-07]], dtype=float32)"
            ]
          },
          "metadata": {},
          "execution_count": 19
        }
      ]
    },
    {
      "cell_type": "code",
      "source": [
        "y_classes = [np.argmax(element) for element in y_pred]\n",
        "y_classes[:5]"
      ],
      "metadata": {
        "colab": {
          "base_uri": "https://localhost:8080/"
        },
        "id": "nAMX5711fOjV",
        "outputId": "05ee28bb-9520-4141-8ce4-5be3addedf2b"
      },
      "execution_count": null,
      "outputs": [
        {
          "output_type": "execute_result",
          "data": {
            "text/plain": [
              "[3, 8, 1, 0, 6]"
            ]
          },
          "metadata": {},
          "execution_count": 21
        }
      ]
    },
    {
      "cell_type": "code",
      "source": [
        "plot_sample(X_test, y_test, 1)"
      ],
      "metadata": {
        "colab": {
          "base_uri": "https://localhost:8080/",
          "height": 173
        },
        "id": "RO2x-6Scg39u",
        "outputId": "a62d6c3f-4f66-4aaa-939d-b8c59db290b9"
      },
      "execution_count": null,
      "outputs": [
        {
          "output_type": "display_data",
          "data": {
            "text/plain": [
              "<Figure size 1080x144 with 1 Axes>"
            ],
            "image/png": "[encoded data removed]"
          },
          "metadata": {
            "needs_background": "light"
          }
        }
      ]
    },
    {
      "cell_type": "code",
      "source": [
        "classes[y_classes[1]]"
      ],
      "metadata": {
        "colab": {
          "base_uri": "https://localhost:8080/",
          "height": 35
        },
        "id": "WMqdo0U7hFyo",
        "outputId": "45140bf5-65ce-44de-e3b7-fe3bc19cfb0b"
      },
      "execution_count": null,
      "outputs": [
        {
          "output_type": "execute_result",
          "data": {
            "text/plain": [
              "'ship'"
            ],
            "application/vnd.google.colaboratory.intrinsic+json": {
              "type": "string"
            }
          },
          "metadata": {},
          "execution_count": 24
        }
      ]
    },
    {
      "cell_type": "code",
      "source": [],
      "metadata": {
        "id": "4kMUMv5_hIrP"
      },
      "execution_count": null,
      "outputs": []
    }
  ]
}